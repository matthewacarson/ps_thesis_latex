{
 "cells": [
  {
   "cell_type": "code",
   "execution_count": 2,
   "id": "5e7cf40a-bc3a-485a-a2e2-b7fcdadd3b14",
   "metadata": {},
   "outputs": [],
   "source": [
    "import pandas as pd\n",
    "import os\n",
    "\n",
    "# os.getcwd()"
   ]
  },
  {
   "cell_type": "code",
   "execution_count": 3,
   "id": "3fe01f5d-cfb3-4b2d-a138-5def2dd4d1dc",
   "metadata": {
    "scrolled": true
   },
   "outputs": [],
   "source": [
    "# Load Fatal Encounters data set\n",
    "fatal_encounters_original = pd.read_csv('fatal_enc.csv')\n",
    "# Not using other/unknown\n",
    "fatal_encounters = fatal_encounters_original[fatal_encounters_original['race_imputed'] != 'Other/Unknown']\n",
    "# fatal_encounters"
   ]
  },
  {
   "cell_type": "code",
   "execution_count": 4,
   "id": "90b3bac7-6828-4291-bf07-4fb6492020b7",
   "metadata": {
    "scrolled": true
   },
   "outputs": [],
   "source": [
    "# Load all US census tracts\n",
    "all_tracts = pd.read_csv('all_tracts.csv')\n",
    "all_tracts.rename(columns = {'NH_BlackE': 'Black', 'NH_WhiteE': 'White', 'Hisp_LatinoE': 'Hispanic/Latino'}, inplace = True)\n",
    "# all_tracts"
   ]
  },
  {
   "cell_type": "code",
   "execution_count": 5,
   "id": "5c465728-ccbb-47c1-b5c6-5360d1b54bef",
   "metadata": {},
   "outputs": [],
   "source": [
    "# Total population race 'r'\n",
    "observed_population_r = all_tracts[['Black', 'White', 'Hispanic/Latino']].sum()\n",
    "# convert to millions\n",
    "observed_population_mil_r = observed_population_r / 1e6\n",
    "observed_population_r = observed_population_mil_r"
   ]
  },
  {
   "cell_type": "code",
   "execution_count": 6,
   "id": "e3c540ad-05fe-4a52-b06d-ca5636f20eaa",
   "metadata": {},
   "outputs": [
    {
     "data": {
      "text/html": [
       "<div>\n",
       "<style scoped>\n",
       "    .dataframe tbody tr th:only-of-type {\n",
       "        vertical-align: middle;\n",
       "    }\n",
       "\n",
       "    .dataframe tbody tr th {\n",
       "        vertical-align: top;\n",
       "    }\n",
       "\n",
       "    .dataframe thead th {\n",
       "        text-align: right;\n",
       "    }\n",
       "</style>\n",
       "<table border=\"1\" class=\"dataframe\">\n",
       "  <thead>\n",
       "    <tr style=\"text-align: right;\">\n",
       "      <th></th>\n",
       "      <th>Black</th>\n",
       "      <th>White</th>\n",
       "      <th>Hispanic/Latino</th>\n",
       "    </tr>\n",
       "    <tr>\n",
       "      <th>income_quintile</th>\n",
       "      <th></th>\n",
       "      <th></th>\n",
       "      <th></th>\n",
       "    </tr>\n",
       "  </thead>\n",
       "  <tbody>\n",
       "    <tr>\n",
       "      <th>1</th>\n",
       "      <td>14.548721</td>\n",
       "      <td>23.167387</td>\n",
       "      <td>13.462541</td>\n",
       "    </tr>\n",
       "    <tr>\n",
       "      <th>2</th>\n",
       "      <td>8.391139</td>\n",
       "      <td>36.231006</td>\n",
       "      <td>13.302322</td>\n",
       "    </tr>\n",
       "    <tr>\n",
       "      <th>3</th>\n",
       "      <td>6.631959</td>\n",
       "      <td>41.665829</td>\n",
       "      <td>12.168110</td>\n",
       "    </tr>\n",
       "    <tr>\n",
       "      <th>4</th>\n",
       "      <td>5.744847</td>\n",
       "      <td>45.449264</td>\n",
       "      <td>11.578554</td>\n",
       "    </tr>\n",
       "    <tr>\n",
       "      <th>5</th>\n",
       "      <td>4.322901</td>\n",
       "      <td>49.118870</td>\n",
       "      <td>8.550668</td>\n",
       "    </tr>\n",
       "  </tbody>\n",
       "</table>\n",
       "</div>"
      ],
      "text/plain": [
       "                     Black      White  Hispanic/Latino\n",
       "income_quintile                                       \n",
       "1                14.548721  23.167387        13.462541\n",
       "2                 8.391139  36.231006        13.302322\n",
       "3                 6.631959  41.665829        12.168110\n",
       "4                 5.744847  45.449264        11.578554\n",
       "5                 4.322901  49.118870         8.550668"
      ]
     },
     "execution_count": 6,
     "metadata": {},
     "output_type": "execute_result"
    }
   ],
   "source": [
    "# Total population (millions) race 'r' living in quintile 'q'\n",
    "observed_population_rq = all_tracts.groupby('income_quintile')[['Black', 'White', 'Hispanic/Latino']].sum() / 1000000\n",
    "observed_population_rq"
   ]
  },
  {
   "cell_type": "code",
   "execution_count": 7,
   "id": "ebab1d1b-e276-47a6-9554-1a23df953b87",
   "metadata": {},
   "outputs": [
    {
     "data": {
      "text/html": [
       "<div>\n",
       "<style scoped>\n",
       "    .dataframe tbody tr th:only-of-type {\n",
       "        vertical-align: middle;\n",
       "    }\n",
       "\n",
       "    .dataframe tbody tr th {\n",
       "        vertical-align: top;\n",
       "    }\n",
       "\n",
       "    .dataframe thead th {\n",
       "        text-align: right;\n",
       "    }\n",
       "</style>\n",
       "<table border=\"1\" class=\"dataframe\">\n",
       "  <thead>\n",
       "    <tr style=\"text-align: right;\">\n",
       "      <th></th>\n",
       "      <th>Black</th>\n",
       "      <th>White</th>\n",
       "      <th>Hispanic/Latino</th>\n",
       "    </tr>\n",
       "    <tr>\n",
       "      <th>income_quintile</th>\n",
       "      <th></th>\n",
       "      <th></th>\n",
       "      <th></th>\n",
       "    </tr>\n",
       "  </thead>\n",
       "  <tbody>\n",
       "    <tr>\n",
       "      <th>1</th>\n",
       "      <td>0.367025</td>\n",
       "      <td>0.118423</td>\n",
       "      <td>0.227938</td>\n",
       "    </tr>\n",
       "    <tr>\n",
       "      <th>2</th>\n",
       "      <td>0.211686</td>\n",
       "      <td>0.185199</td>\n",
       "      <td>0.225226</td>\n",
       "    </tr>\n",
       "    <tr>\n",
       "      <th>3</th>\n",
       "      <td>0.167307</td>\n",
       "      <td>0.212980</td>\n",
       "      <td>0.206022</td>\n",
       "    </tr>\n",
       "    <tr>\n",
       "      <th>4</th>\n",
       "      <td>0.144927</td>\n",
       "      <td>0.232320</td>\n",
       "      <td>0.196040</td>\n",
       "    </tr>\n",
       "    <tr>\n",
       "      <th>5</th>\n",
       "      <td>0.109055</td>\n",
       "      <td>0.251077</td>\n",
       "      <td>0.144774</td>\n",
       "    </tr>\n",
       "  </tbody>\n",
       "</table>\n",
       "</div>"
      ],
      "text/plain": [
       "                    Black     White  Hispanic/Latino\n",
       "income_quintile                                     \n",
       "1                0.367025  0.118423         0.227938\n",
       "2                0.211686  0.185199         0.225226\n",
       "3                0.167307  0.212980         0.206022\n",
       "4                0.144927  0.232320         0.196040\n",
       "5                0.109055  0.251077         0.144774"
      ]
     },
     "execution_count": 7,
     "metadata": {},
     "output_type": "execute_result"
    }
   ],
   "source": [
    "# Proportion race 'r' living in income quintile 'q'\n",
    "observed_proportion_rq = observed_population_rq / observed_population_mil_r\n",
    "observed_proportion_rq"
   ]
  },
  {
   "cell_type": "code",
   "execution_count": 8,
   "id": "bb2ff10f-5c9e-4ce8-a007-275ca7655564",
   "metadata": {},
   "outputs": [],
   "source": [
    "############################\n",
    "# Deaths by race 'r' per year (six years) ####\n",
    "############################\n",
    "annual_observed_deaths_r = fatal_encounters['race_imputed'].value_counts() / 6\n",
    "\n",
    "#######################################\n",
    "# Deaths by income quintile 'q' per year (six years) ####\n",
    "#######################################\n",
    "annual_observed_deaths_q = fatal_encounters['income_quintile'].value_counts() / 6\n",
    "\n",
    "#####################################################\n",
    "# Fatal encounter count: race by income quintile ####\n",
    "#####################################################\n",
    "annual_observed_deaths_rq = pd.crosstab(fatal_encounters['income_quintile'], fatal_encounters['race_imputed']) / 6\n",
    "annual_observed_deaths_rq = annual_observed_deaths_rq.reindex(columns = observed_population_mil_r.index)"
   ]
  },
  {
   "cell_type": "code",
   "execution_count": 9,
   "id": "75978e6e-7983-405f-95f2-955ddeb17da0",
   "metadata": {},
   "outputs": [],
   "source": [
    "#########################\n",
    "# Column percentages ####\n",
    "#########################\n",
    "observed_deaths_col_percent_rq = pd.crosstab(fatal_encounters['income_quintile'], fatal_encounters['race_imputed'], normalize = 'columns') # * 100\n",
    "# observed_deaths_col_percent_rq"
   ]
  },
  {
   "cell_type": "code",
   "execution_count": 10,
   "id": "222b8c8e-a1a9-40e3-801e-0c5928cad802",
   "metadata": {},
   "outputs": [
    {
     "data": {
      "text/plain": [
       "Black              7.437855\n",
       "Hispanic/Latino    3.575327\n",
       "White              2.937483\n",
       "dtype: float64"
      ]
     },
     "execution_count": 10,
     "metadata": {},
     "output_type": "execute_result"
    }
   ],
   "source": [
    "# Annual fatal encounter rate by race only per one million population (six years in data)\n",
    "observed_rate_r = annual_observed_deaths_r / observed_population_mil_r\n",
    "observed_rate_r"
   ]
  },
  {
   "cell_type": "code",
   "execution_count": 11,
   "id": "2ac5e888-10a5-41af-aa56-918375c82c44",
   "metadata": {},
   "outputs": [],
   "source": [
    "# Annual fatal encounter rate (r by q) per one million population (six years in data)\n",
    "observed_rate_rq = annual_observed_deaths_rq.div(observed_population_rq) / 6\n",
    "# observed_rate_rq"
   ]
  },
  {
   "cell_type": "code",
   "execution_count": 12,
   "id": "ffa25f52-bcd8-4a5b-b2f6-418ebd235dc3",
   "metadata": {
    "editable": true,
    "slideshow": {
     "slide_type": ""
    },
    "tags": []
   },
   "outputs": [
    {
     "data": {
      "text/plain": [
       "Black              249.975423\n",
       "White              574.666667\n",
       "Hispanic/Latino    192.085420\n",
       "dtype: float64"
      ]
     },
     "execution_count": 12,
     "metadata": {},
     "output_type": "execute_result"
    }
   ],
   "source": [
    "#######################################################\n",
    "# Counterfactual death count based on all races being \n",
    "# distributed the same as the white distribution\n",
    "#######################################################\n",
    "proportion_adjustment = observed_proportion_rq['White'].values[:, None] / observed_proportion_rq\n",
    "counterfactual_annual_deaths_rq = proportion_adjustment * annual_observed_deaths_rq\n",
    "counterfactual_annual_deaths_rq = pd.DataFrame(counterfactual_annual_deaths_rq)\n",
    "counterfactual_annual_deaths_rq.rename(\n",
    "    columns = {0: 'Black', 1: 'White', 2: 'Latino'}, \n",
    "    # index = {0: 'Q1', 1: 'Q2', 2: 'Q3', 3: 'Q4', 4: 'Q5'},\n",
    "    inplace = True\n",
    ")\n",
    "annual_counterfactual_deaths_r = counterfactual_annual_deaths_rq.sum()\n",
    "annual_counterfactual_deaths_r"
   ]
  },
  {
   "cell_type": "code",
   "execution_count": 20,
   "id": "b5ea6e43-359f-40e8-b5ec-65f3ea45089d",
   "metadata": {},
   "outputs": [
    {
     "data": {
      "text/plain": [
       "Black              6.306210\n",
       "White              2.937483\n",
       "Hispanic/Latino    3.252257\n",
       "dtype: float64"
      ]
     },
     "execution_count": 20,
     "metadata": {},
     "output_type": "execute_result"
    }
   ],
   "source": [
    "# Counterfactual rate: annual per 1 million population\n",
    "counterfactual_rate_r = annual_counterfactual_deaths_r / observed_population_r\n",
    "counterfactual_rate_r"
   ]
  },
  {
   "cell_type": "code",
   "execution_count": 37,
   "id": "b2a14851-21d6-458d-980d-0ca897dc28d4",
   "metadata": {},
   "outputs": [
    {
     "data": {
      "text/plain": [
       "Black              0.1521\n",
       "Hispanic/Latino    0.0904\n",
       "dtype: float64"
      ]
     },
     "execution_count": 37,
     "metadata": {},
     "output_type": "execute_result"
    }
   ],
   "source": [
    "# Reduction in rate based on counterfactual distribution\n",
    "round(1 - counterfactual_rate_r.iloc[[0,2]] / observed_rate_r.iloc[0:2], 4)"
   ]
  }
 ],
 "metadata": {
  "kernelspec": {
   "display_name": "Python 3 (Spyder)",
   "language": "python3",
   "name": "python3"
  },
  "language_info": {
   "codemirror_mode": {
    "name": "ipython",
    "version": 3
   },
   "file_extension": ".py",
   "mimetype": "text/x-python",
   "name": "python",
   "nbconvert_exporter": "python",
   "pygments_lexer": "ipython3",
   "version": "3.12.2"
  }
 },
 "nbformat": 4,
 "nbformat_minor": 5
}
